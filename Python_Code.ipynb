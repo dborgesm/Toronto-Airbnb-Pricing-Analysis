{
 "cells": [
  {
   "cell_type": "markdown",
   "metadata": {},
   "source": [
    "### Toronto Airbnb Pricing Analysis Code"
   ]
  },
  {
   "cell_type": "markdown",
   "metadata": {},
   "source": [
    "**Steps performed:**\n",
    "\n",
    "+ 1. Data Preprocessing\n",
    "    + 1.1 Removing unnecessary columns for modeling\n",
    "    + 1.2 Removing variables with significant null values\n",
    "    + 1.3 Removing columns that have the same information\n",
    "    + 1.4 Handling missing values (median-set, zero-set or mean-seat) and Data Engineering\n",
    "    \n",
    "    \n",
    "+ 2. Exploratory Data Analysis\n",
    "    + 2.1 Seasonal Demand\n",
    "    + 2.2 Price Analysis\n",
    "    + 2.3 Geographical Analysis\n",
    "    + 2.4 Correlation\n",
    "    \n",
    " \n",
    "+ 3. Modeling\n",
    "    + 3.1 Estimating test sample size\n",
    "    + 3.2 Standardizing and Normalizing\n",
    "    + 3.3 Splitting the data in training and testing\n",
    "    + 3.4 Feature Selection\n",
    "    + 3.5 Random Forest\n",
    "    + 3.6 Gradient Boosting\n",
    "    + 3.7 Final Model and Parameter Tuning\n",
    "    + 3.8 Predictions on the test set"
   ]
  },
  {
   "cell_type": "code",
   "execution_count": 1,
   "metadata": {},
   "outputs": [],
   "source": [
    "# Loading libraries\n",
    "import pandas as pd\n",
    "import numpy as np\n",
    "import seaborn as sns\n",
    "import matplotlib.pyplot as plt\n",
    "%matplotlib inline\n",
    "import datetime\n",
    "from monthdelta import MonthDelta, monthmod\n",
    "from statsmodels.tsa.seasonal import seasonal_decompose\n",
    "import geopandas as gpd #libspatialindex nees to be installed first\n",
    "import json # library to handle JSON files\n",
    "from pandas.io.json import json_normalize # tranform JSON file into a pandas dataframe\n",
    "import requests\n",
    "import descartes\n",
    "from sklearn.feature_selection import SelectFromModel\n",
    "from sklearn.preprocessing import StandardScaler\n",
    "from sklearn.linear_model import LassoCV\n",
    "from sklearn.ensemble import RandomForestRegressor, GradientBoostingRegressor\n",
    "from sklearn.model_selection import train_test_split\n",
    "from sklearn.model_selection import cross_val_score\n",
    "from sklearn.metrics import mean_squared_error, mean_absolute_error, make_scorer\n",
    "from sklearn.model_selection import GridSearchCV\n",
    "from sklearn.pipeline import Pipeline\n",
    "import warnings\n",
    "warnings.filterwarnings('ignore')"
   ]
  },
  {
   "cell_type": "markdown",
   "metadata": {},
   "source": [
    "### 1. Data Preprocessing"
   ]
  },
  {
   "cell_type": "code",
   "execution_count": 2,
   "metadata": {},
   "outputs": [],
   "source": [
    "airbnb = pd.read_csv(\"listings2.csv\")"
   ]
  },
  {
   "cell_type": "markdown",
   "metadata": {},
   "source": [
    "#### 1.1 Removing unnecessary columns for modeling\n",
    "\n",
    "Natural Language Preprocessing is not going to be performed. Hence, free text columns will be dropped and columns that are not useful for predicting the price. (id, listing_url. scrape_id, name, summary)"
   ]
  },
  {
   "cell_type": "code",
   "execution_count": 3,
   "metadata": {},
   "outputs": [],
   "source": [
    "cols_to_drop = ['listing_url', 'scrape_id', 'last_scraped', 'name', 'summary', 'space', 'description', 'neighborhood_overview', 'notes', 'transit', 'access', 'interaction', 'house_rules', 'thumbnail_url', 'medium_url', 'picture_url', 'xl_picture_url', 'host_id', 'host_url', 'host_name', 'host_location', 'host_about', 'host_thumbnail_url', 'host_picture_url', 'host_neighbourhood', 'host_verifications', 'calendar_last_scraped']\n",
    "airbnb.drop(cols_to_drop, axis=1, inplace=True)"
   ]
  },
  {
   "cell_type": "markdown",
   "metadata": {},
   "source": [
    "#### 1.2 Removing variables with significant null values\n",
    "\n",
    "Columns with more than 80% of missing values will be dropped from the data. The following code will plot the null values in each variable."
   ]
  },
  {
   "cell_type": "code",
   "execution_count": 4,
   "metadata": {},
   "outputs": [
    {
     "data": {
      "text/plain": [
       "<matplotlib.legend.Legend at 0x21feaa20a88>"
      ]
     },
     "execution_count": 4,
     "metadata": {},
     "output_type": "execute_result"
    },
    {
     "data": {
      "image/png": "[encoded data removed]",
      "text/plain": [
       "<Figure size 720x216 with 1 Axes>"
      ]
     },
     "metadata": {
      "needs_background": "light"
     },
     "output_type": "display_data"
    }
   ],
   "source": [
    "plt.figure(figsize=(10,3))\n",
    "na_col = airbnb.isnull().sum().sort_values(ascending=False)\n",
    "len_col = airbnb.shape[0]\n",
    "percent = na_col / len_col\n",
    "\n",
    "col_val = []\n",
    "tr = len(airbnb)\n",
    "j=0\n",
    "for i in na_col:\n",
    "  if i/tr > 0.8:\n",
    "    col_val.append(\"r\")\n",
    "    j +=1\n",
    "  else:\n",
    "    col_val.append(\"b\")\n",
    "#plt.figure(dpi=90)\n",
    "percent.plot(kind='bar', color = tuple(col_val), fontsize=4)\n",
    "plt.show\n",
    "plt.title(\"Variables with significant Null Values\")\n",
    "plt.legend([\"> 80% Null Values\"], bbox_to_anchor=(1.02, 1), loc='upper left', borderaxespad=0., fontsize = 4)\n"
   ]
  },
  {
   "cell_type": "markdown",
   "metadata": {},
   "source": [
    "#### 1.3 Removing columns that have the same information\n",
    "\n",
    "Columns that represent the same information were dropped from the model. For example, host listing count and host total listing counts, except for one. Listing count columns that split host listing counts into properties will be dropped.\n",
    "Only availability of 30 days will stay due to Toronto regulations."
   ]
  },
  {
   "cell_type": "code",
   "execution_count": 5,
   "metadata": {},
   "outputs": [],
   "source": [
    "airbnb.loc[((airbnb.host_listings_count == airbnb.host_total_listings_count) == False)]\n",
    "airbnb.drop(['neighbourhood_group_cleansed', 'square_feet', \n",
    "         'weekly_price', 'monthly_price', 'license', 'jurisdiction_names',\n",
    "            'calculated_host_listings_count_private_rooms','calculated_host_listings_count_shared_rooms',\n",
    "             'host_total_listings_count', 'calculated_host_listings_count', \n",
    "             'calculated_host_listings_count_entire_homes',\n",
    "            'calendar_updated','availability_60', 'availability_90' ,'availability_365',\n",
    "            'id', 'bed_type','host_acceptance_rate'], axis=1, inplace=True)"
   ]
  },
  {
   "cell_type": "markdown",
   "metadata": {},
   "source": [
    "For the property location variables, only neighborhood cleansed was kept in the model. Also, all the locations are in Toronto, Ontario, Canada. Thus, city, state, and country were dropped. There are some columns for minimum and maximum nights, but only minimum nights and maximum nights were kept, because there are small differences between maximum nigths and maximum maximum nights. In bed type, the majority of the values are real bed, there is no significance usecase of having this variable in the dataset."
   ]
  },
  {
   "cell_type": "code",
   "execution_count": 6,
   "metadata": {},
   "outputs": [],
   "source": [
    "airbnb.drop(['country', 'is_location_exact','zipcode', 'state', 'market',\n",
    "         'latitude', 'longitude','street', 'neighbourhood', 'city',\n",
    "         'smart_location', 'country_code'], axis=1, inplace=True)\n",
    "sum((airbnb.maximum_nights == airbnb.maximum_maximum_nights) == False)\n",
    "airbnb.drop(['maximum_maximum_nights', 'minimum_nights_avg_ntm', 'maximum_nights_avg_ntm',\n",
    "             'minimum_minimum_nights', 'maximum_minimum_nights', 'minimum_maximum_nights'], axis=1, inplace=True)"
   ]
  },
  {
   "cell_type": "markdown",
   "metadata": {},
   "source": [
    "#### 1.4 Handling missing values (median-set, zero-set or mean-seat) and Feature Engineering"
   ]
  },
  {
   "cell_type": "code",
   "execution_count": 7,
   "metadata": {},
   "outputs": [],
   "source": [
    "airbnb.replace({'f': 0, 't': 1}, inplace=True)"
   ]
  },
  {
   "cell_type": "markdown",
   "metadata": {},
   "source": [
    "Removing unbalanced categorical variables because they wont apport significant information to the model. "
   ]
  },
  {
   "cell_type": "code",
   "execution_count": 8,
   "metadata": {},
   "outputs": [],
   "source": [
    "airbnb.drop(['has_availability','host_has_profile_pic',\n",
    "            'require_guest_phone_verification','require_guest_profile_picture',\n",
    "            'requires_license', 'is_business_travel_ready', 'experiences_offered'],axis=1, inplace=True)"
   ]
  },
  {
   "cell_type": "markdown",
   "metadata": {},
   "source": [
    "**host_response_time**\n",
    "\n",
    "30% of the values in this variable are null values (we can consider this as unknown). The null values were replaced with **unkwown**"
   ]
  },
  {
   "cell_type": "code",
   "execution_count": 9,
   "metadata": {},
   "outputs": [],
   "source": [
    "airbnb.host_response_time.isnull().sum()/len(airbnb)\n",
    "airbnb.host_response_time.fillna('unknown', inplace=True)"
   ]
  },
  {
   "cell_type": "markdown",
   "metadata": {},
   "source": [
    "**host_response_rate**\n",
    "\n",
    "Converting this variable into a categorical feature. The new groups will be \"0-49%\", \"50-89%\", \"90-99%\", \"100%\" and \"unknown\" in case of missing values."
   ]
  },
  {
   "cell_type": "code",
   "execution_count": 10,
   "metadata": {},
   "outputs": [],
   "source": [
    "# Removing the % sign and converting into float\n",
    "airbnb.host_response_rate = airbnb.host_response_rate.str.replace(\"%\",\"\").astype('float64')\n",
    "# Regrouping\n",
    "airbnb.host_response_rate = pd.cut(airbnb.host_response_rate, \n",
    "                               bins=[0, 50, 90, 99, 100], \n",
    "                               labels=['0-49%', '50-89%', '90-99%', '100%'], \n",
    "                               include_lowest=True)\n",
    "\n",
    "# Converting to string\n",
    "airbnb.host_response_rate = airbnb.host_response_rate.astype('str')\n",
    "# Replace nulls with 'unknown'\n",
    "airbnb.host_response_rate.replace('nan', 'unknown', inplace=True)"
   ]
  },
  {
   "cell_type": "markdown",
   "metadata": {},
   "source": [
    "**security_deposit**\n",
    "\n",
    "Converting this variables into float. The null values mean that the security deposit is zero."
   ]
  },
  {
   "cell_type": "code",
   "execution_count": 11,
   "metadata": {},
   "outputs": [],
   "source": [
    "# Removing the dolar sign and \",\"\n",
    "airbnb.security_deposit = airbnb.security_deposit.str.replace('$','')\n",
    "airbnb.security_deposit = airbnb.security_deposit.str.replace(\",\", \"\")\n",
    "# Filling null values with 0\n",
    "airbnb.security_deposit.fillna(0, inplace=True)\n",
    "# \"Converting into float\"\n",
    "airbnb.security_deposit = airbnb.security_deposit.astype('float')"
   ]
  },
  {
   "cell_type": "markdown",
   "metadata": {},
   "source": [
    "**Review rating columns**\n",
    "\n",
    "Around 30% of the values of these variables are null values. The null values are probably due to the property does not have a review yet. This does not mean that we should replace the NA with zero. Thus, we transformed them in categorical variables with the following groups: \"0-8/10\", \"9/10\", \"10/10\" and \"no reviews\"\n"
   ]
  },
  {
   "cell_type": "code",
   "execution_count": 12,
   "metadata": {},
   "outputs": [],
   "source": [
    "reviews_plot = list(airbnb.columns[airbnb.columns.str.startswith(\"review_scores\") == True])"
   ]
  },
  {
   "cell_type": "code",
   "execution_count": 13,
   "metadata": {},
   "outputs": [],
   "source": [
    "# Binning function\n",
    "def bin_column(col, bins, labels, na_label='unknown'):\n",
    "    airbnb[col] = pd.cut(airbnb[col], bins=bins, labels=labels, include_lowest=True)\n",
    "    airbnb[col] = airbnb[col].astype('str')\n",
    "    airbnb[col].replace('nan', na_label, inplace=True)"
   ]
  },
  {
   "cell_type": "code",
   "execution_count": 14,
   "metadata": {},
   "outputs": [],
   "source": [
    "# elimitating the first variable because it is the only one that is out of 100\n",
    "reviews_plot.pop(0)\n",
    "# Binning for all columns scored out of 10\n",
    "for col in reviews_plot:\n",
    "    bin_column(col,\n",
    "               bins=[0, 8, 9, 10],\n",
    "               labels=['0-8/10', '9/10', '10/10'],\n",
    "               na_label='no reviews')"
   ]
  },
  {
   "cell_type": "code",
   "execution_count": 15,
   "metadata": {},
   "outputs": [],
   "source": [
    "# Categorizing the variable review_scores_rating\n",
    "bin_column('review_scores_rating',\n",
    "           bins=[0, 80, 95, 100],\n",
    "           labels=['0-79/100', '80-94/100', '95-100/100'],\n",
    "           na_label='no reviews')"
   ]
  },
  {
   "cell_type": "markdown",
   "metadata": {},
   "source": [
    "**reviews_per_month and number_of_reviews_ltm**\n",
    "\n",
    "They were removed from the model because number of reviews is more important"
   ]
  },
  {
   "cell_type": "code",
   "execution_count": 16,
   "metadata": {},
   "outputs": [],
   "source": [
    "airbnb.drop(['number_of_reviews_ltm', 'reviews_per_month'], axis=1, inplace=True)"
   ]
  },
  {
   "cell_type": "markdown",
   "metadata": {},
   "source": [
    "**first_review and last_review**\n",
    "\n",
    "They contain 30% of missing values. These values indicated that the property does not have a review. New categorical variables were created using these variables (time since first review and time since last review). \n",
    "\n",
    "The groups were the following '0-6 months', '6-12 months', '1-2 years', '2-3 years', '4+ years' and no reviews.\n",
    "\n",
    "After doing the EDA, last review and first review were dropped."
   ]
  },
  {
   "cell_type": "code",
   "execution_count": 17,
   "metadata": {},
   "outputs": [],
   "source": [
    "# first review\n",
    "airbnb.first_review = pd.to_datetime(airbnb.first_review) # Converting to datetime\n",
    "airbnb['time_since_first_review'] = (pd.datetime(2020, 2, 14) - airbnb.first_review).astype('timedelta64[D]')\n",
    "# Binning time since first review\n",
    "bin_column('time_since_first_review',\n",
    "           bins=[0, 182, 365, 730, 1460, max(airbnb.time_since_first_review)],\n",
    "           labels=['0-6 months','6-12 months','1-2 years','2-3 years','4+ years'], na_label='no reviews')"
   ]
  },
  {
   "cell_type": "code",
   "execution_count": 18,
   "metadata": {},
   "outputs": [],
   "source": [
    "# last review \n",
    "airbnb.last_review = pd.to_datetime(airbnb.last_review)\n",
    "airbnb['time_since_last_review'] = (pd.datetime(2020, 2, 14) - airbnb.last_review).astype('timedelta64[D]')\n",
    "# airbnb.time_since_last_review.hist(figsize=(15,5), bins=30);\n",
    "bin_column('time_since_last_review',\n",
    "           bins=[0, 14, 60, 182, 365, max(airbnb.time_since_last_review)],\n",
    "           labels=['0-2 weeks','2-8 weeks','2-6 months','6-12 months','1+ year'],na_label='no reviews')"
   ]
  },
  {
   "cell_type": "code",
   "execution_count": 19,
   "metadata": {},
   "outputs": [],
   "source": [
    "# Dropping last review\n",
    "airbnb.drop('last_review', axis=1, inplace=True)"
   ]
  },
  {
   "cell_type": "markdown",
   "metadata": {},
   "source": [
    "**cleaning_fee**\n",
    "\n",
    "Converting this variables into float. The null values mean that the security deposit is zero."
   ]
  },
  {
   "cell_type": "code",
   "execution_count": 20,
   "metadata": {},
   "outputs": [],
   "source": [
    "airbnb.cleaning_fee = airbnb.cleaning_fee.str.replace('$','')\n",
    "airbnb.cleaning_fee = airbnb.cleaning_fee.str.replace(\",\", \"\")\n",
    "airbnb.cleaning_fee.fillna(0, inplace=True)\n",
    "airbnb.cleaning_fee = airbnb.cleaning_fee.astype('float')"
   ]
  },
  {
   "cell_type": "markdown",
   "metadata": {},
   "source": [
    "**Beds, bedrooms and bathrooms**\n",
    "\n",
    "Replacing the null values with the median"
   ]
  },
  {
   "cell_type": "code",
   "execution_count": 21,
   "metadata": {},
   "outputs": [],
   "source": [
    "# Replacing null values with the median\n",
    "for c in ['beds', 'bedrooms', 'bathrooms']:\n",
    "    airbnb[c].fillna(airbnb[c].median(), inplace=True)"
   ]
  },
  {
   "cell_type": "markdown",
   "metadata": {},
   "source": [
    "**host related columns**\n",
    "\n",
    "The rows with null values will be removed, it represents less than 5% of the data."
   ]
  },
  {
   "cell_type": "code",
   "execution_count": 22,
   "metadata": {},
   "outputs": [],
   "source": [
    "airbnb.dropna(subset=['host_since'], inplace=True)"
   ]
  },
  {
   "cell_type": "markdown",
   "metadata": {},
   "source": [
    "**property_type**\n",
    "\n",
    "There are many categories in this variables. This we will group them into house, apartment and others. Otherwise, some categories wont be representative. "
   ]
  },
  {
   "cell_type": "code",
   "execution_count": 23,
   "metadata": {},
   "outputs": [],
   "source": [
    " airbnb.property_type.value_counts()\n",
    "# Creating a dictionary to replace the categories with house, apartment and others\n",
    "prop_dic = {'Townhouse': 'House','Loft': 'Apartment','Serviced apartment': 'Apartment','Cottage': 'House','Villa': 'House','Bungalow': 'House','Tiny house': 'House','Dome house': 'House','Earth house': 'House','Chalet': 'House'}\n",
    "airbnb.property_type.replace(prop_dic, inplace=True)\n",
    "airbnb.loc[~airbnb.property_type.isin(['House', 'Apartment']), 'property_type'] = \"Other\""
   ]
  },
  {
   "cell_type": "markdown",
   "metadata": {},
   "source": [
    "**ammenities**\n",
    "\n",
    "The ammenities of each listing will be extracted and new columns were added to the data set with amenities that are unique and not offered by all hosts."
   ]
  },
  {
   "cell_type": "code",
   "execution_count": 24,
   "metadata": {
    "scrolled": true
   },
   "outputs": [],
   "source": [
    "amenities_list = list(airbnb.amenities)\n",
    "amenities_list_string = \" \".join(amenities_list)\n",
    "amenities_list_string = amenities_list_string.replace('{', '')\n",
    "amenities_list_string = amenities_list_string.replace('}', ',')\n",
    "amenities_list_string = amenities_list_string.replace('\"', '')\n",
    "amenities_set = [x.strip() for x in amenities_list_string.split(',')]\n",
    "amenities_set = set(amenities_set)"
   ]
  },
  {
   "cell_type": "code",
   "execution_count": 25,
   "metadata": {},
   "outputs": [],
   "source": [
    "airbnb.loc[airbnb['amenities'].str.contains('24-hour check-in'), 'check_in_24h'] = 1\n",
    "airbnb.loc[airbnb['amenities'].str.contains('Air conditioning|Central air conditioning'), 'air_conditioning'] = 1\n",
    "airbnb.loc[airbnb['amenities'].str.contains('Amazon Echo|Apple TV|Game console|Netflix|Projector and screen|Smart TV'), 'high_end_electronics'] = 1\n",
    "airbnb.loc[airbnb['amenities'].str.contains('BBQ grill|Fire pit|Propane barbeque'), 'bbq'] = 1\n",
    "airbnb.loc[airbnb['amenities'].str.contains('Balcony|Patio'), 'balcony'] = 1\n",
    "airbnb.loc[airbnb['amenities'].str.contains('Beach view|Beachfront|Lake access|Mountain view|Ski-in/Ski-out|Waterfront'), 'nature_and_views'] = 1\n",
    "airbnb.loc[airbnb['amenities'].str.contains('Bed linens'), 'bed_linen'] = 1\n",
    "airbnb.loc[airbnb['amenities'].str.contains('Breakfast'), 'breakfast'] = 1\n",
    "airbnb.loc[airbnb['amenities'].str.contains('TV'), 'tv'] = 1\n",
    "airbnb.loc[airbnb['amenities'].str.contains('Coffee maker|Espresso machine'), 'coffee_machine'] = 1\n",
    "airbnb.loc[airbnb['amenities'].str.contains('Cooking basics'), 'cooking_basics'] = 1\n",
    "airbnb.loc[airbnb['amenities'].str.contains('Dishwasher|Dryer|Washer'), 'white_goods'] = 1\n",
    "airbnb.loc[airbnb['amenities'].str.contains('Elevator'), 'elevator'] = 1\n",
    "airbnb.loc[airbnb['amenities'].str.contains('Exercise equipment|Gym|gym'), 'gym'] = 1\n",
    "airbnb.loc[airbnb['amenities'].str.contains('Family/kid friendly|Children|children'), 'child_friendly'] = 1\n",
    "airbnb.loc[airbnb['amenities'].str.contains('parking'), 'parking'] = 1\n",
    "airbnb.loc[airbnb['amenities'].str.contains('Garden|Outdoor|Sun loungers|Terrace'), 'outdoor_space'] = 1\n",
    "airbnb.loc[airbnb['amenities'].str.contains('Host greets you'), 'host_greeting'] = 1\n",
    "airbnb.loc[airbnb['amenities'].str.contains('Hot tub|Jetted tub|hot tub|Sauna|Pool|pool'), 'hot_tub_sauna_or_pool'] = 1\n",
    "airbnb.loc[airbnb['amenities'].str.contains('Internet|Pocket wifi|Wifi'), 'internet'] = 1\n",
    "airbnb.loc[airbnb['amenities'].str.contains('Long term stays allowed'), 'long_term_stays'] = 1\n",
    "airbnb.loc[airbnb['amenities'].str.contains('Pets|pet|Cat(s)|Dog(s)'), 'pets_allowed'] = 1\n",
    "airbnb.loc[airbnb['amenities'].str.contains('Private entrance'), 'private_entrance'] = 1\n",
    "airbnb.loc[airbnb['amenities'].str.contains('Safe|Security system'), 'secure'] = 1\n",
    "airbnb.loc[airbnb['amenities'].str.contains('Self check-in'), 'self_check_in'] = 1\n",
    "airbnb.loc[airbnb['amenities'].str.contains('Smoking allowed'), 'smoking_allowed'] = 1\n",
    "airbnb.loc[airbnb['amenities'].str.contains('Step-free access|Wheelchair|Accessible'), 'accessible'] = 1\n",
    "airbnb.loc[airbnb['amenities'].str.contains('Suitable for events'), 'event_suitable'] = 1"
   ]
  },
  {
   "cell_type": "code",
   "execution_count": 26,
   "metadata": {},
   "outputs": [],
   "source": [
    "# Replacing nulls with zeros for new columns\n",
    "replace_nulls = airbnb.iloc[:,35:].columns\n",
    "airbnb[replace_nulls] = airbnb[replace_nulls].fillna(0)\n",
    "\n",
    "# Produces a list of amenity features where one category (true or false) contains fewer than 15% of listings\n",
    "infreq_amen = []\n",
    "for col in airbnb.iloc[:,36:].columns:\n",
    "    if airbnb[col].sum() < len(airbnb)*.15:\n",
    "        infreq_amen.append(col)\n",
    "\n",
    "# Dropping infrequent amenity features\n",
    "airbnb.drop(infreq_amen, axis=1, inplace=True)\n",
    "# Dropping the original amenity feature\n",
    "airbnb.drop('amenities', axis=1, inplace=True)"
   ]
  },
  {
   "cell_type": "markdown",
   "metadata": {},
   "source": [
    "**cancellation_policy**\n",
    "\n",
    "The counts for strict_30 and strict_60 are small. Hence, they were replaced with strict_14_with_grace_period. "
   ]
  },
  {
   "cell_type": "code",
   "execution_count": 27,
   "metadata": {},
   "outputs": [],
   "source": [
    "can_pol_dic = {'super_strict_30': 'strict_14_with_grace_period','super_strict_60': 'strict_14_with_grace_period'}\n",
    "airbnb.cancellation_policy.replace(can_pol_dic, inplace=True)"
   ]
  },
  {
   "cell_type": "markdown",
   "metadata": {},
   "source": [
    "**Extra people and price**\n",
    "\n",
    "Converting these variables into float. The null values mean that the security deposit is zero."
   ]
  },
  {
   "cell_type": "code",
   "execution_count": 28,
   "metadata": {},
   "outputs": [],
   "source": [
    "airbnb.extra_people = airbnb.extra_people.str.replace('$','')\n",
    "airbnb.extra_people = airbnb.extra_people.str.replace(\",\", \"\")\n",
    "airbnb.extra_people = airbnb.extra_people.astype('float')"
   ]
  },
  {
   "cell_type": "code",
   "execution_count": 29,
   "metadata": {},
   "outputs": [],
   "source": [
    "# price is a string not numerical\n",
    "airbnb.price = airbnb.price.str.replace('$','')\n",
    "airbnb.price = airbnb.price.str.replace(\",\", \"\")\n",
    "airbnb.price = airbnb.price.astype('float')"
   ]
  },
  {
   "cell_type": "markdown",
   "metadata": {},
   "source": [
    "### 2. Exploratory Data Analysis"
   ]
  },
  {
   "cell_type": "markdown",
   "metadata": {},
   "source": [
    "#### 2.1 Seasonal Demand"
   ]
  },
  {
   "cell_type": "code",
   "execution_count": 30,
   "metadata": {},
   "outputs": [
    {
     "name": "stdout",
     "output_type": "stream",
     "text": [
      "The first host joined on 08 August 2008, and the most recent joined on 13 February 2020.\n"
     ]
    }
   ],
   "source": [
    "airbnb.host_since = pd.to_datetime(airbnb.host_since)\n",
    "airbnb.first_review = pd.to_datetime(airbnb.first_review)\n",
    "print(f\"The first host joined on {min(airbnb.host_since).strftime('%d %B %Y')}, and the most recent joined on {max(airbnb.host_since).strftime('%d %B %Y')}.\")"
   ]
  },
  {
   "cell_type": "markdown",
   "metadata": {},
   "source": [
    "Plotting hosts joining Airbnb vs Listings getting their first review."
   ]
  },
  {
   "cell_type": "code",
   "execution_count": 31,
   "metadata": {},
   "outputs": [
    {
     "data": {
      "image/png": "[encoded data removed]",
      "text/plain": [
       "<Figure size 360x144 with 1 Axes>"
      ]
     },
     "metadata": {
      "needs_background": "light"
     },
     "output_type": "display_data"
    }
   ],
   "source": [
    "plt.figure(figsize=(5,2))\n",
    "airbnb.set_index('host_since').resample('MS').size().plot(label='Hosts joining Airbnb', color='purple')\n",
    "airbnb.set_index('first_review').resample('MS').size().plot(label='Listings getting their first review', color='red')\n",
    "plt.legend()\n",
    "plt.xlim('2008-08-08', '2020-02-13') # Limiting to whole months\n",
    "plt.xlabel('')\n",
    "plt.ylabel('')\n",
    "plt.show()"
   ]
  },
  {
   "cell_type": "markdown",
   "metadata": {},
   "source": [
    "Plotting boxplot of distribution of listings per year."
   ]
  },
  {
   "cell_type": "code",
   "execution_count": 32,
   "metadata": {},
   "outputs": [
    {
     "data": {
      "image/png": "[encoded data removed]",
      "text/plain": [
       "<Figure size 360x144 with 1 Axes>"
      ]
     },
     "metadata": {
      "needs_background": "light"
     },
     "output_type": "display_data"
    }
   ],
   "source": [
    "plt.figure(figsize=(5,2))\n",
    "sns.boxplot(airbnb.host_since.dt.year, np.log(1+airbnb.host_listings_count))\n",
    "plt.xlabel('Year that the host joined Airbnb', fontsize=12)\n",
    "plt.ylabel('# of listings (log)', fontsize=12)\n",
    "plt.show()"
   ]
  },
  {
   "cell_type": "markdown",
   "metadata": {},
   "source": [
    "#### 2.2 Price Analysis"
   ]
  },
  {
   "cell_type": "markdown",
   "metadata": {},
   "source": [
    "Plotting boxplot of price distribution per year."
   ]
  },
  {
   "cell_type": "code",
   "execution_count": 33,
   "metadata": {},
   "outputs": [
    {
     "data": {
      "image/png": "[encoded data removed]",
      "text/plain": [
       "<Figure size 360x144 with 1 Axes>"
      ]
     },
     "metadata": {
      "needs_background": "light"
     },
     "output_type": "display_data"
    }
   ],
   "source": [
    "plt.figure(figsize=(5,2))\n",
    "sns.boxplot(airbnb.first_review.dt.year, np.log(airbnb.price))\n",
    "plt.xlabel('Year that the listing had its first review', fontsize=12)\n",
    "plt.ylabel('price (log)', fontsize=12)\n",
    "plt.show()"
   ]
  },
  {
   "cell_type": "markdown",
   "metadata": {},
   "source": [
    "Plotting the median price vs the mean price through the years"
   ]
  },
  {
   "cell_type": "code",
   "execution_count": 34,
   "metadata": {},
   "outputs": [
    {
     "data": {
      "image/png": "[encoded data removed]",
      "text/plain": [
       "<Figure size 360x144 with 1 Axes>"
      ]
     },
     "metadata": {
      "needs_background": "light"
     },
     "output_type": "display_data"
    }
   ],
   "source": [
    "plt.figure(figsize=(5,2))\n",
    "airbnb.set_index('first_review').price.resample('YS').mean().plot(label='Mean nightly price', color='purple')\n",
    "airbnb.set_index('first_review').price.resample('YS').median().plot(label='Median nightly price', color='red')\n",
    "plt.legend()\n",
    "plt.xlim('2009-01-01', '2020-01-1') # Limiting to whole months\n",
    "plt.xlabel('')\n",
    "plt.ylabel('')\n",
    "plt.show()"
   ]
  },
  {
   "cell_type": "code",
   "execution_count": 35,
   "metadata": {},
   "outputs": [],
   "source": [
    "airbnb.drop(['host_since', 'first_review'], axis=1, inplace=True)"
   ]
  },
  {
   "cell_type": "code",
   "execution_count": 36,
   "metadata": {},
   "outputs": [],
   "source": [
    "# Minimum price is 13 we are going to replace the 0 values with this minimum value\n",
    "airbnb.loc[airbnb.price == 0,\"price\"] = 13.0"
   ]
  },
  {
   "cell_type": "markdown",
   "metadata": {},
   "source": [
    "Plotting price distribution up to $1,000"
   ]
  },
  {
   "cell_type": "code",
   "execution_count": 37,
   "metadata": {},
   "outputs": [
    {
     "data": {
      "image/png": "[encoded data removed]",
      "text/plain": [
       "<Figure size 360x144 with 1 Axes>"
      ]
     },
     "metadata": {
      "needs_background": "light"
     },
     "output_type": "display_data"
    }
   ],
   "source": [
    "plt.figure(figsize=(5,2))\n",
    "airbnb.price.hist(bins=100, range=(0,1000))\n",
    "plt.margins(x=0)\n",
    "plt.xlabel(\"Price\")\n",
    "plt.ylabel(\"Number of listings\")\n",
    "plt.grid(False)\n",
    "plt.show()"
   ]
  },
  {
   "cell_type": "code",
   "execution_count": 38,
   "metadata": {},
   "outputs": [],
   "source": [
    "# The model is not going to consider prices above 1000, hence these values will be eliminated from the model.\n",
    "airbnb = airbnb.loc[(airbnb.price <= 1000)]"
   ]
  },
  {
   "cell_type": "markdown",
   "metadata": {},
   "source": [
    "Plotting median price by cancellation policy"
   ]
  },
  {
   "cell_type": "code",
   "execution_count": 39,
   "metadata": {},
   "outputs": [
    {
     "data": {
      "image/png": "[encoded data removed]",
      "text/plain": [
       "<Figure size 360x144 with 1 Axes>"
      ]
     },
     "metadata": {
      "needs_background": "light"
     },
     "output_type": "display_data"
    }
   ],
   "source": [
    "df_grouped = pd.DataFrame(airbnb.groupby(['cancellation_policy'])['price'].agg(np.median))\n",
    "df_grouped.reset_index(inplace=True)\n",
    "\n",
    "df_grouped.sort_values(by=['price'], ascending=True)\\\n",
    "          .plot(kind='barh', x='cancellation_policy', y='price', \n",
    "                figsize=(5,2), legend=False, color='darkblue')\n",
    "\n",
    "plt.xlabel('\\nMedian Price', fontsize=12)\n",
    "plt.ylabel('Cancellation Policy\\n', fontsize=12)\n",
    "plt.title('\\nMedian Prices by Cancellation Policy\\n', fontsize=8, fontweight='bold');"
   ]
  },
  {
   "cell_type": "markdown",
   "metadata": {},
   "source": [
    "#### 2.3 Geographical Analysis"
   ]
  },
  {
   "cell_type": "code",
   "execution_count": 40,
   "metadata": {},
   "outputs": [],
   "source": [
    "# Renaming the neighbourhood column\n",
    "airbnb.rename(columns={'neighbourhood_cleansed': 'borough'}, inplace=True)"
   ]
  },
  {
   "cell_type": "code",
   "execution_count": 41,
   "metadata": {},
   "outputs": [],
   "source": [
    "map_airbnb = gpd.read_file('neighbourhoods.geojson')"
   ]
  },
  {
   "cell_type": "code",
   "execution_count": 42,
   "metadata": {},
   "outputs": [],
   "source": [
    "# Creating a dataframe of listing counts and median price by borough\n",
    "borough = pd.DataFrame(airbnb.groupby('borough').size())\n",
    "borough.rename(columns={0: 'number_of_listings'}, inplace=True)\n",
    "borough['median_price'] = airbnb.groupby('borough').price.median().values\n",
    "\n",
    "# Joining the dataframes\n",
    "borough_map = map_airbnb.set_index('neighbourhood').join(borough)"
   ]
  },
  {
   "cell_type": "markdown",
   "metadata": {},
   "source": [
    "Plotting geographical median price of listings in each borough"
   ]
  },
  {
   "cell_type": "code",
   "execution_count": 43,
   "metadata": {},
   "outputs": [
    {
     "data": {
      "image/png": "[encoded data removed]",
      "text/plain": [
       "<Figure size 360x288 with 2 Axes>"
      ]
     },
     "metadata": {
      "needs_background": "light"
     },
     "output_type": "display_data"
    }
   ],
   "source": [
    "fig2, ax2 = plt.subplots(1, figsize=(5, 4))\n",
    "borough_map.plot(column='median_price', cmap='GnBu', ax=ax2)\n",
    "ax2.axis('off')\n",
    "ax2.set_title(' Toronto Airbnb median price range', fontsize=8)\n",
    "sm = plt.cm.ScalarMappable(cmap='GnBu', norm=plt.Normalize(vmin=min(borough_map.median_price), vmax=max(borough_map.median_price)))\n",
    "sm._A = [] # Creates an empty array for the data range\n",
    "cbar = fig2.colorbar(sm)\n",
    "plt.show()"
   ]
  },
  {
   "cell_type": "markdown",
   "metadata": {},
   "source": [
    "#### 2.4 Correlation"
   ]
  },
  {
   "cell_type": "code",
   "execution_count": 44,
   "metadata": {},
   "outputs": [],
   "source": [
    "airbnbdf = pd.get_dummies(airbnb)"
   ]
  },
  {
   "cell_type": "code",
   "execution_count": 45,
   "metadata": {},
   "outputs": [],
   "source": [
    "airbnbdf.drop(['maximum_nights'], axis=1, inplace=True)"
   ]
  },
  {
   "cell_type": "code",
   "execution_count": 46,
   "metadata": {},
   "outputs": [],
   "source": [
    "def corr_heatmap(df, figsize=(25,25)):\n",
    "    \n",
    "    \"\"\"\n",
    "    Creates a heatmap of correlations between features in the df. A figure size can optionally be set.\n",
    "    \"\"\"\n",
    "    # Set the style of the visualization\n",
    "    sns.set(style=\"white\")\n",
    "\n",
    "    # Create a covariance matrix\n",
    "    corr = df.corr()\n",
    "\n",
    "    # Generate a mask the size of our covariance matrix\n",
    "    mask = np.zeros_like(corr, dtype=np.bool)\n",
    "    mask[np.triu_indices_from(mask)] = True\n",
    "\n",
    "    # Set up the matplotlib figure\n",
    "    f, ax = plt.subplots(figsize=figsize)\n",
    "\n",
    "    # Generate a custom diverging colormap\n",
    "    cmap = sns.diverging_palette(220, 10, as_cmap=True)\n",
    "\n",
    "    # Draw the heatmap with the mask and correct aspect ratio\n",
    "    sns.heatmap(corr, mask=mask, cmap=cmap, center=0, linewidths=.5, cbar_kws={\"shrink\": .5}, vmax=corr[corr != 1.0].max().max());"
   ]
  },
  {
   "cell_type": "markdown",
   "metadata": {},
   "source": [
    "Plotting correlation heatmap, removing the borough variables. "
   ]
  },
  {
   "cell_type": "code",
   "execution_count": 47,
   "metadata": {},
   "outputs": [
    {
     "data": {
      "image/png": "[encoded data removed]",
      "text/plain": [
       "<Figure size 432x288 with 2 Axes>"
      ]
     },
     "metadata": {},
     "output_type": "display_data"
    }
   ],
   "source": [
    "corr_heatmap(airbnbdf.drop(list(airbnbdf.columns[airbnbdf.columns.str.startswith('borough')]), axis=1), figsize=(6,4))"
   ]
  },
  {
   "cell_type": "code",
   "execution_count": 48,
   "metadata": {},
   "outputs": [],
   "source": [
    "# After analyzing the heatmap and the correlation these variable will be removed\n",
    "nr = airbnbdf['review_scores_rating_no reviews']\n",
    "airbnbdf.drop(list(airbnbdf.columns[airbnbdf.columns.str.contains('_no reviews')]), axis=1, inplace=True)\n",
    "airbnbdf['review_scores_rating_no_reviews'] = nr"
   ]
  },
  {
   "cell_type": "code",
   "execution_count": 49,
   "metadata": {},
   "outputs": [],
   "source": [
    "# Dropping collinear features\n",
    "drop_var = ['beds', 'bedrooms',\n",
    "       'host_response_rate_0-49%',\n",
    "       'room_type_Private room','host_response_rate_unknown']\n",
    "airbnbdf.drop(drop_var, axis=1, inplace=True)"
   ]
  },
  {
   "cell_type": "markdown",
   "metadata": {},
   "source": [
    "### 3. Modeling"
   ]
  },
  {
   "cell_type": "markdown",
   "metadata": {},
   "source": [
    "**3.1 Estimating the test set size**"
   ]
  },
  {
   "cell_type": "code",
   "execution_count": 40,
   "metadata": {},
   "outputs": [
    {
     "data": {
      "text/plain": [
       "2369.9706796783976"
      ]
     },
     "execution_count": 40,
     "metadata": {},
     "output_type": "execute_result"
    }
   ],
   "source": [
    "(1.96*airbnbdf.price.std()/5)**2"
   ]
  },
  {
   "cell_type": "markdown",
   "metadata": {},
   "source": [
    "**3.2 Standarizing and Normalizing**"
   ]
  },
  {
   "cell_type": "code",
   "execution_count": 41,
   "metadata": {},
   "outputs": [],
   "source": [
    "cat_var = airbnbdf.loc[:,airbnbdf.apply(pd.Series.nunique) <= 2]\n",
    "data1 = airbnbdf.drop(cat_var.columns, axis=1)\n",
    "data1 = data1.drop(['price'], axis=1)\n",
    "scaler = StandardScaler()\n",
    "scaler.fit(data1)\n",
    "tf_df = pd.DataFrame(scaler.transform(data1), columns=list(data1.columns))\n",
    "tf_df = pd.concat([data1,cat_var], axis=1)\n",
    "tf_df[\"price\"] = np.log(airbnbdf.price)"
   ]
  },
  {
   "cell_type": "markdown",
   "metadata": {},
   "source": [
    "**3.3 Modelling**"
   ]
  },
  {
   "cell_type": "code",
   "execution_count": 42,
   "metadata": {},
   "outputs": [],
   "source": [
    "train,test = train_test_split(tf_df,test_size=0.3)"
   ]
  },
  {
   "cell_type": "markdown",
   "metadata": {},
   "source": [
    "**3.4 Feature selection using Lasso**"
   ]
  },
  {
   "cell_type": "code",
   "execution_count": 43,
   "metadata": {},
   "outputs": [],
   "source": [
    "# Using lasso for feature selection\n",
    "Xtr, ytr = train.drop([\"price\"], axis=1), train.price\n",
    "# We use the base estimator LassoCV\n",
    "clf = LassoCV(cv=5)\n",
    "# Set a minimum threshold of 0.70\n",
    "sfm = SelectFromModel(clf)\n",
    "sfm.fit(Xtr, ytr)\n",
    "n_features = sfm.transform(Xtr).shape[1]\n",
    "# Extracting the index of important features\n",
    "feature_idx = sfm.get_support()"
   ]
  },
  {
   "cell_type": "markdown",
   "metadata": {},
   "source": [
    "**3.5 Random Forest Modeling**"
   ]
  },
  {
   "cell_type": "code",
   "execution_count": 72,
   "metadata": {},
   "outputs": [],
   "source": [
    "rf_model = Pipeline([\n",
    "    ('rf', RandomForestRegressor(n_estimators=1000, # Number of trees to train\n",
    "                       criterion='mse', # How to train the trees. Also supports entropy.\n",
    "                       max_depth=None, # Max depth of the trees. Not necessary to change. # Wee let it gro as big as it can\n",
    "                       min_samples_split=2, # Minimum samples to create a split.\n",
    "                       min_samples_leaf=0.001, # Minimum samples in a leaf. Accepts fractions for %. This is 0.1% of sample.\n",
    "                       min_weight_fraction_leaf=0.0, # Same as above, but uses the class weights.\n",
    "                       max_features='auto', # Maximum number of features per split (not tree!) by default is sqrt(vars)\n",
    "                       max_leaf_nodes=None, # Maximum number of nodes.\n",
    "                       min_impurity_decrease=0.0001, # Minimum impurity decrease. This is 10^-3.\n",
    "                       bootstrap=True, # If sample with repetition. For large samples (>100.000) set to false.\n",
    "                       oob_score=False,  # If report accuracy with non-selected cases.\n",
    "                       n_jobs=-1, # Parallel processing. Set to -1 for all cores. Watch your RAM!!\n",
    "                       random_state=251082976, # Seed\n",
    "                       verbose=0, # If to give info during training. Set to 0 for silent training.\n",
    "                       warm_start=False, # If train over previously trained tree.\n",
    "                       ))])\n"
   ]
  },
  {
   "cell_type": "markdown",
   "metadata": {},
   "source": [
    "**Model 1**\n",
    "\n",
    "Modelling using only the 9 features selected from lasso"
   ]
  },
  {
   "cell_type": "code",
   "execution_count": 73,
   "metadata": {
    "scrolled": true
   },
   "outputs": [],
   "source": [
    "airbnb_rf_small = rf_model.fit(Xtr[list(Xtr.columns[(feature_idx)])], ytr)"
   ]
  },
  {
   "cell_type": "code",
   "execution_count": 74,
   "metadata": {},
   "outputs": [
    {
     "data": {
      "text/plain": [
       "0.6028546391615492"
      ]
     },
     "execution_count": 74,
     "metadata": {},
     "output_type": "execute_result"
    }
   ],
   "source": [
    "cv_rf_small = cross_val_score(rf_model,Xtr[list(Xtr.columns[(feature_idx)])], ytr, \n",
    "                            cv = 5, n_jobs=-1)\n",
    "cv_rf_small.mean()"
   ]
  },
  {
   "cell_type": "code",
   "execution_count": 75,
   "metadata": {},
   "outputs": [
    {
     "data": {
      "text/plain": [
       "(0.571883816099646, 1.8085639174846477)"
      ]
     },
     "execution_count": 75,
     "metadata": {},
     "output_type": "execute_result"
    }
   ],
   "source": [
    "cv_rf_small.mean()-2*cv_rf_small.std(), cv_rf_small.mean() + 2*cv_rf_small.mean()"
   ]
  },
  {
   "cell_type": "markdown",
   "metadata": {},
   "source": [
    "**Model 2**\n",
    "\n",
    "Modelling using all the features selected from lasso"
   ]
  },
  {
   "cell_type": "code",
   "execution_count": 47,
   "metadata": {
    "scrolled": true
   },
   "outputs": [],
   "source": [
    "airbnb_rf_c = rf_model.fit(Xtr, ytr)"
   ]
  },
  {
   "cell_type": "code",
   "execution_count": 48,
   "metadata": {},
   "outputs": [
    {
     "data": {
      "text/plain": [
       "0.6475223920729027"
      ]
     },
     "execution_count": 48,
     "metadata": {},
     "output_type": "execute_result"
    }
   ],
   "source": [
    "cv_rf_c = cross_val_score(rf_model,Xtr, ytr, \n",
    "                            cv = 5, n_jobs=-1)\n",
    "cv_rf_c.mean()"
   ]
  },
  {
   "cell_type": "code",
   "execution_count": 49,
   "metadata": {},
   "outputs": [
    {
     "data": {
      "text/plain": [
       "(0.616854303587167, 1.9425671762187082)"
      ]
     },
     "execution_count": 49,
     "metadata": {},
     "output_type": "execute_result"
    }
   ],
   "source": [
    "cv_rf_c.mean()-2*cv_rf_c.std(), cv_rf_c.mean() + 2*cv_rf_c.mean()"
   ]
  },
  {
   "cell_type": "markdown",
   "metadata": {},
   "source": [
    "**3.6 Gradient Boosting**"
   ]
  },
  {
   "cell_type": "code",
   "execution_count": 79,
   "metadata": {},
   "outputs": [],
   "source": [
    "xgb_model = Pipeline([\n",
    "    ('xgb',GradientBoostingRegressor(loss='ls', # How to calculate losses. Deviance is for probabilistic outputs. Alternative exponential for AdaBoost. \n",
    "                           learning_rate=0.1, # How much to shrink error in each subsequent training. Trade-off with no. estimators.\n",
    "                           n_estimators=1000, # How many trees to use, the more the better, but decrease learning rate if many used.\n",
    "                           subsample=0.632, # Subsampling to use. 63.2% of data is standard for XGBoost.\n",
    "                           criterion='friedman_mse', # Error to use for each split. Good idea to leave it as is.\n",
    "                           min_samples_split=2, # Minimum samples for a split.\n",
    "                           min_samples_leaf=75, # Minimum samples in a leaf.\n",
    "                           min_weight_fraction_leaf=0.0, # Minimum fraction of samples in a leaf. Consider increasing if first few trees too good.\n",
    "                           max_depth=3, # Maximum depth. Keep it small!\n",
    "                           min_impurity_decrease=0.01, # Minimum impurity decrease. Might want to use 1% or so.\n",
    "                           init=None, # How to make first prediction (it needs one). Can give model that supports fit and predict.\n",
    "                           random_state=251082976, # Seed\n",
    "                           max_features='auto', # Same as RF. \n",
    "                           verbose=0,  # Same as RF.\n",
    "                           max_leaf_nodes=None,  # Same as RF.\n",
    "                           warm_start=False,  # Same as RF.\n",
    "                           presort='auto', # Whether to presort the data to speed up training.\n",
    "                           validation_fraction=0.3, # XGBoost CAN overfit, so control this just in case. Uses 30% validation in this case.\n",
    "                           n_iter_no_change=None, # Iters to stop training if no change occurs between one tree and the next.\n",
    "                           tol=0.0001 # Tolerance. Means maximum change of 10^-4\n",
    "                          ))\n",
    "])"
   ]
  },
  {
   "cell_type": "markdown",
   "metadata": {},
   "source": [
    "**Model 4**\n",
    "\n",
    "Modelling using only the 9 features selected from lasso"
   ]
  },
  {
   "cell_type": "code",
   "execution_count": 80,
   "metadata": {},
   "outputs": [],
   "source": [
    "airbnb_xgb_small = xgb_model.fit(Xtr[list(Xtr.columns[(feature_idx)])], ytr)"
   ]
  },
  {
   "cell_type": "code",
   "execution_count": 81,
   "metadata": {},
   "outputs": [
    {
     "data": {
      "text/plain": [
       "0.6185688950076489"
      ]
     },
     "execution_count": 81,
     "metadata": {},
     "output_type": "execute_result"
    }
   ],
   "source": [
    "cv_xgb_small = cross_val_score(xgb_model,Xtr[list(Xtr.columns[(feature_idx)])], ytr, \n",
    "                            cv = 5, n_jobs=-1)\n",
    "cv_xgb_small.mean()"
   ]
  },
  {
   "cell_type": "code",
   "execution_count": 82,
   "metadata": {},
   "outputs": [
    {
     "data": {
      "text/plain": [
       "(0.5841326367147494, 0.6530051533005484)"
      ]
     },
     "execution_count": 82,
     "metadata": {},
     "output_type": "execute_result"
    }
   ],
   "source": [
    "cv_xgb_small.mean()-2*cv_xgb_small.std(), cv_xgb_small.mean()+2*cv_xgb_small.std()"
   ]
  },
  {
   "cell_type": "markdown",
   "metadata": {},
   "source": [
    "Plotting XGBoosting Feature Importance"
   ]
  },
  {
   "cell_type": "code",
   "execution_count": null,
   "metadata": {},
   "outputs": [],
   "source": [
    "plt.figure(figsize=(5,2))\n",
    "plt.barh(Xtr[list(Xtr.columns[(feature_idx)])].columns, airbnb_xgb_small.named_steps.xgb.feature_importances_,\n",
    "        align='center', alpha=0.5)\n",
    "plt.yticks(Xtr[list(Xtr.columns[(feature_idx)])].columns)\n",
    "plt.xlabel('Importance')\n",
    "plt.title('XGBoosting Variable Importance')\n",
    "plt.show()"
   ]
  },
  {
   "cell_type": "markdown",
   "metadata": {},
   "source": [
    "**Model 5**\n",
    "\n",
    "XGBoosting modelling using all the variables"
   ]
  },
  {
   "cell_type": "code",
   "execution_count": 54,
   "metadata": {},
   "outputs": [],
   "source": [
    "airbnb_xgb_c = xgb_model.fit(Xtr, ytr)"
   ]
  },
  {
   "cell_type": "code",
   "execution_count": 55,
   "metadata": {},
   "outputs": [
    {
     "data": {
      "text/plain": [
       "0.691900136762974"
      ]
     },
     "execution_count": 55,
     "metadata": {},
     "output_type": "execute_result"
    }
   ],
   "source": [
    "cv_xgb_c = cross_val_score(xgb_model,Xtr, ytr, cv = 5, n_jobs=-1)\n",
    "cv_xgb_c.mean()"
   ]
  },
  {
   "cell_type": "code",
   "execution_count": 56,
   "metadata": {},
   "outputs": [
    {
     "data": {
      "text/plain": [
       "(0.6567503752684484, 0.7270498982574997)"
      ]
     },
     "execution_count": 56,
     "metadata": {},
     "output_type": "execute_result"
    }
   ],
   "source": [
    "cv_xgb_c.mean() - 2*cv_xgb_c.std(), cv_xgb_c.mean() + 2*cv_xgb_c.std()"
   ]
  },
  {
   "cell_type": "markdown",
   "metadata": {},
   "source": [
    "**3.7 Final Model (Best Performance) and Parameter Tuning**"
   ]
  },
  {
   "cell_type": "code",
   "execution_count": null,
   "metadata": {},
   "outputs": [],
   "source": [
    "param_grid = dict(xgb__max_features=[2,3,4], xgb__min_samples_split=[2,3,4],\n",
    "                  xgb__n_estimators=[1000,1500,2000,3000,6000,10000])\n",
    "\n",
    "grid = GridSearchCV(xgb_model, param_grid, cv=5, scoring=make_scorer(mean_squared_error), \n",
    "                    n_jobs=-1, verbose=0)\n",
    "\n",
    "grid.fit(Xtr[list(Xtr.columns[(feature_idx)])], ytr)"
   ]
  },
  {
   "cell_type": "code",
   "execution_count": 88,
   "metadata": {},
   "outputs": [
    {
     "data": {
      "text/plain": [
       "{'xgb__max_features': 2,\n",
       " 'xgb__min_samples_split': 2,\n",
       " 'xgb__n_estimators': 10000}"
      ]
     },
     "execution_count": 88,
     "metadata": {},
     "output_type": "execute_result"
    }
   ],
   "source": [
    "grid.best_params_"
   ]
  },
  {
   "cell_type": "code",
   "execution_count": null,
   "metadata": {},
   "outputs": [],
   "source": [
    "xgb_model.set_params(xgb__n_estimators=10000, xgb__max_features=2, xgb__min_samples_split=2)"
   ]
  },
  {
   "cell_type": "code",
   "execution_count": 90,
   "metadata": {},
   "outputs": [],
   "source": [
    "airbnb_xgb_final = xgb_model.fit(Xtr[list(Xtr.columns[(feature_idx)])], ytr)\n",
    "\n",
    "cv_xgb_final = cross_val_score(xgb_model,Xtr[list(Xtr.columns[(feature_idx)])], ytr, cv = 5, n_jobs=-1, verbose=0)"
   ]
  },
  {
   "cell_type": "code",
   "execution_count": 91,
   "metadata": {},
   "outputs": [
    {
     "data": {
      "text/plain": [
       "0.6091827957061536"
      ]
     },
     "execution_count": 91,
     "metadata": {},
     "output_type": "execute_result"
    }
   ],
   "source": [
    "cv_xgb_final.mean()"
   ]
  },
  {
   "cell_type": "code",
   "execution_count": 92,
   "metadata": {},
   "outputs": [
    {
     "data": {
      "text/plain": [
       "(0.5674511697467932, 0.650914421665514)"
      ]
     },
     "execution_count": 92,
     "metadata": {},
     "output_type": "execute_result"
    }
   ],
   "source": [
    "cv_xgb_final.mean()-cv_xgb_final.std()*2 ,cv_xgb_final.std()*2 + cv_xgb_final.mean()"
   ]
  },
  {
   "cell_type": "markdown",
   "metadata": {},
   "source": [
    "Plotting Random Forest Feature Importance"
   ]
  },
  {
   "cell_type": "code",
   "execution_count": null,
   "metadata": {},
   "outputs": [],
   "source": [
    "plt.figure(figsize=(5,2))\n",
    "plt.barh(Xtr[list(Xtr.columns[(feature_idx)])].columns, airbnb_xgb_final.named_steps.xgb.feature_importances_,\n",
    "        align='center', alpha=0.5)\n",
    "plt.yticks(Xtr[list(Xtr.columns[(feature_idx)])].columns)\n",
    "plt.xlabel('Importance')\n",
    "plt.title('RandomForest Variable Importance')\n",
    "plt.show()"
   ]
  },
  {
   "cell_type": "markdown",
   "metadata": {},
   "source": [
    "#### 3.8 Predictions on the test set"
   ]
  },
  {
   "cell_type": "code",
   "execution_count": 94,
   "metadata": {},
   "outputs": [],
   "source": [
    "Xts, yts = test.drop([\"price\"], axis=1), test.price"
   ]
  },
  {
   "cell_type": "code",
   "execution_count": 95,
   "metadata": {},
   "outputs": [],
   "source": [
    "xgb_pred_regress = airbnb_xgb_final.predict(Xts[list(Xts.columns[(feature_idx)])])"
   ]
  },
  {
   "cell_type": "code",
   "execution_count": 103,
   "metadata": {},
   "outputs": [
    {
     "data": {
      "text/plain": [
       "<matplotlib.legend.Legend at 0x14f13d2c8c8>"
      ]
     },
     "execution_count": 103,
     "metadata": {},
     "output_type": "execute_result"
    },
    {
     "data": {
      "image/png": "[encoded data removed]",
      "text/plain": [
       "<Figure size 360x144 with 1 Axes>"
      ]
     },
     "metadata": {
      "needs_background": "light"
     },
     "output_type": "display_data"
    }
   ],
   "source": [
    "plt.figure(figsize=(5,2))\n",
    "sns.distplot(np.exp(xgb_pred_regress), label=\"predictions\", kde=False)\n",
    "sns.distplot(np.exp(yts), label=\"test set\",kde=False)\n",
    "plt.legend()"
   ]
  },
  {
   "cell_type": "code",
   "execution_count": null,
   "metadata": {},
   "outputs": [],
   "source": [
    "print('Mean Squared Error Xgb:', mean_squared_error(np.exp(yts),  np.exp(xgb_pred_regress)))\n",
    "print('Mean Squared Error Xgb:', mean_squared_error(yts, xgb_pred_regress))"
   ]
  }
 ],
 "metadata": {
  "kernelspec": {
   "display_name": "Python 3",
   "language": "python",
   "name": "python3"
  },
  "language_info": {
   "codemirror_mode": {
    "name": "ipython",
    "version": 3
   },
   "file_extension": ".py",
   "mimetype": "text/x-python",
   "name": "python",
   "nbconvert_exporter": "python",
   "pygments_lexer": "ipython3",
   "version": "3.7.4"
  }
 },
 "nbformat": 4,
 "nbformat_minor": 2
}
